{
 "cells": [
  {
   "cell_type": "code",
   "execution_count": 1,
   "metadata": {},
   "outputs": [
    {
     "name": "stderr",
     "output_type": "stream",
     "text": [
      "C:\\Users\\Born_2_Code\\AppData\\Local\\Programs\\Python\\Python36\\lib\\site-packages\\sklearn\\cross_validation.py:41: DeprecationWarning: This module was deprecated in version 0.18 in favor of the model_selection module into which all the refactored classes and functions are moved. Also note that the interface of the new CV iterators are different from that of this module. This module will be removed in 0.20.\n",
      "  \"This module will be removed in 0.20.\", DeprecationWarning)\n",
      "Using TensorFlow backend.\n"
     ]
    }
   ],
   "source": [
    "import pickle\n",
    "import string\n",
    "import numpy as np\n",
    "import pandas as pd\n",
    "from collections import Counter\n",
    "from collections import defaultdict\n",
    "\n",
    "from sklearn.preprocessing import LabelEncoder  \n",
    "from sklearn.feature_extraction.text import CountVectorizer\n",
    "from sklearn.pipeline import Pipeline, FeatureUnion\n",
    "from sklearn import cross_validation\n",
    "from sklearn.externals import joblib\n",
    "\n",
    "from keras.utils.np_utils import to_categorical\n",
    "from keras.models import Sequential\n",
    "from keras.layers import Dense\n",
    "from keras.layers import Dropout\n",
    "import keras.optimizers\n",
    "from keras.utils import plot_model\n",
    "from keras.utils.np_utils import to_categorical\n",
    "from keras.callbacks import EarlyStopping\n",
    "\n",
    "import matplotlib.pyplot as plt\n",
    "% matplotlib inline"
   ]
  },
  {
   "cell_type": "markdown",
   "metadata": {},
   "source": [
    "#### Load training data"
   ]
  },
  {
   "cell_type": "code",
   "execution_count": 2,
   "metadata": {},
   "outputs": [],
   "source": [
    "df = pd.read_json('train_X_languages_homework.json.txt', lines=True)\n",
    "df_y = pd.read_json('train_y_languages_homework.json.txt', lines=True)"
   ]
  },
  {
   "cell_type": "markdown",
   "metadata": {},
   "source": [
    "### Clean data"
   ]
  },
  {
   "cell_type": "markdown",
   "metadata": {},
   "source": [
    "#### Clean data and remove punctuations"
   ]
  },
  {
   "cell_type": "code",
   "execution_count": 3,
   "metadata": {},
   "outputs": [],
   "source": [
    "df['text_cleaned'] = df['text'].apply(lambda x:''.join([i for i in x if i not in string.punctuation]))"
   ]
  },
  {
   "cell_type": "markdown",
   "metadata": {},
   "source": [
    "#### create output mapping dictionary"
   ]
  },
  {
   "cell_type": "code",
   "execution_count": 4,
   "metadata": {},
   "outputs": [],
   "source": [
    "labels = np.unique(df_y.classification)\n",
    "val_to_cat = {}\n",
    "index = 0\n",
    "for label in labels:\n",
    "    val_to_cat[index] = label\n",
    "    index += 1\n",
    "with open(\"val_to_cat.pkl\", 'wb') as f:\n",
    "    pickle.dump(val_to_cat, f, pickle.HIGHEST_PROTOCOL)"
   ]
  },
  {
   "cell_type": "markdown",
   "metadata": {},
   "source": [
    "#### convert labels into values"
   ]
  },
  {
   "cell_type": "code",
   "execution_count": 5,
   "metadata": {},
   "outputs": [
    {
     "name": "stderr",
     "output_type": "stream",
     "text": [
      "C:\\Users\\Born_2_Code\\AppData\\Local\\Programs\\Python\\Python36\\lib\\site-packages\\sklearn\\preprocessing\\label.py:111: DataConversionWarning: A column-vector y was passed when a 1d array was expected. Please change the shape of y to (n_samples, ), for example using ravel().\n",
      "  y = column_or_1d(y, warn=True)\n"
     ]
    }
   ],
   "source": [
    "le = LabelEncoder()\n",
    "df_y_values = pd.DataFrame(le.fit_transform(df_y),columns=[\"label\"])"
   ]
  },
  {
   "cell_type": "markdown",
   "metadata": {},
   "source": [
    "#### join data and labels dataframes"
   ]
  },
  {
   "cell_type": "code",
   "execution_count": 6,
   "metadata": {},
   "outputs": [],
   "source": [
    "df_new = df.join(df_y_values)"
   ]
  },
  {
   "cell_type": "markdown",
   "metadata": {},
   "source": [
    "### Feature Engineering"
   ]
  },
  {
   "cell_type": "markdown",
   "metadata": {},
   "source": [
    "#### extract features - top 100 words from each language"
   ]
  },
  {
   "cell_type": "code",
   "execution_count": 7,
   "metadata": {},
   "outputs": [],
   "source": [
    "word_list = []\n",
    "for val in np.unique(df_y_values.label):\n",
    "    text = df_new[df_new.label == val]['text_cleaned'].str.cat(sep='')\n",
    "    table = str.maketrans({key: None for key in string.punctuation})\n",
    "    new_text = text.translate(table) \n",
    "    common = Counter(new_text.lower().split()).most_common(100)\n",
    "    words = [key for key, val in common]\n",
    "    word_list.extend(words)"
   ]
  },
  {
   "cell_type": "markdown",
   "metadata": {},
   "source": [
    "#### get unique words"
   ]
  },
  {
   "cell_type": "code",
   "execution_count": 8,
   "metadata": {},
   "outputs": [],
   "source": [
    "word_list = set(word_list)"
   ]
  },
  {
   "cell_type": "markdown",
   "metadata": {},
   "source": [
    "#### create pipeline to join features top 100 words from each language category and language alphabets"
   ]
  },
  {
   "cell_type": "code",
   "execution_count": 9,
   "metadata": {},
   "outputs": [],
   "source": [
    "pipeline = Pipeline([\n",
    "    ('feats', FeatureUnion([\n",
    "        ('char', CountVectorizer(analyzer='char')),\n",
    "       ('words', CountVectorizer(vocabulary=word_list))\n",
    "    ]))\n",
    "])"
   ]
  },
  {
   "cell_type": "markdown",
   "metadata": {},
   "source": [
    "#### extract features by calling fit transform"
   ]
  },
  {
   "cell_type": "code",
   "execution_count": 10,
   "metadata": {},
   "outputs": [],
   "source": [
    "data = pipeline.fit_transform(df_new[\"text_cleaned\"],y=df_new[\"label\"])"
   ]
  },
  {
   "cell_type": "markdown",
   "metadata": {},
   "source": [
    "#### save pipline to use with test data"
   ]
  },
  {
   "cell_type": "code",
   "execution_count": 11,
   "metadata": {},
   "outputs": [
    {
     "data": {
      "text/plain": [
       "['pipeline.pkl']"
      ]
     },
     "execution_count": 11,
     "metadata": {},
     "output_type": "execute_result"
    }
   ],
   "source": [
    "joblib.dump(pipeline, 'pipeline.pkl') "
   ]
  },
  {
   "cell_type": "markdown",
   "metadata": {},
   "source": [
    "#### test train split - test size zero as test data is provided"
   ]
  },
  {
   "cell_type": "code",
   "execution_count": 12,
   "metadata": {},
   "outputs": [],
   "source": [
    "X_train, _ , y_train, _ = cross_validation.train_test_split(data, df_new[\"label\"], test_size=0)"
   ]
  },
  {
   "cell_type": "markdown",
   "metadata": {},
   "source": [
    "### define a model"
   ]
  },
  {
   "cell_type": "code",
   "execution_count": 13,
   "metadata": {},
   "outputs": [],
   "source": [
    "input_size = X_train.shape[1]\n",
    "# convert output y to categorical \n",
    "\n",
    "def convert_to_categorical(data):\n",
    "    return to_categorical(data.as_matrix())\n",
    "\n",
    "y_binary = convert_to_categorical(y_train)"
   ]
  },
  {
   "cell_type": "markdown",
   "metadata": {},
   "source": [
    "#### define model"
   ]
  },
  {
   "cell_type": "code",
   "execution_count": 14,
   "metadata": {},
   "outputs": [],
   "source": [
    "model = Sequential()\n",
    "model.add(Dense(500,input_dim=input_size,kernel_initializer=\"glorot_uniform\",activation=\"relu\"))\n",
    "model.add(Dropout(0.5))\n",
    "model.add(Dense(200,kernel_initializer=\"glorot_uniform\",activation=\"relu\"))\n",
    "model.add(Dropout(0.5))\n",
    "model.add(Dense(len(y_binary[0]),kernel_initializer=\"glorot_uniform\",activation=\"softmax\"))\n",
    "model_optimizer = keras.optimizers.Adam(lr=0.001, beta_1=0.9, beta_2=0.999, epsilon=1e-08, decay=0.0)\n",
    "model.compile(loss='categorical_crossentropy', optimizer=model_optimizer, metrics=['accuracy'])"
   ]
  },
  {
   "cell_type": "markdown",
   "metadata": {},
   "source": [
    "#### define callback for earlystopping"
   ]
  },
  {
   "cell_type": "code",
   "execution_count": 15,
   "metadata": {},
   "outputs": [],
   "source": [
    "callback = [EarlyStopping(monitor='val_acc', min_delta=0, patience=3, verbose=1, mode='auto')]"
   ]
  },
  {
   "cell_type": "markdown",
   "metadata": {},
   "source": [
    "#### train the model"
   ]
  },
  {
   "cell_type": "code",
   "execution_count": 16,
   "metadata": {},
   "outputs": [
    {
     "name": "stdout",
     "output_type": "stream",
     "text": [
      "Train on 100312 samples, validate on 25079 samples\n",
      "Epoch 1/50\n",
      "100312/100312 [==============================] - 162s 2ms/step - loss: 1.7206 - acc: 0.5783 - val_loss: 1.1298 - val_acc: 0.7088\n",
      "Epoch 2/50\n",
      "100312/100312 [==============================] - 164s 2ms/step - loss: 1.1552 - acc: 0.6999 - val_loss: 0.9750 - val_acc: 0.7376\n",
      "Epoch 3/50\n",
      "100312/100312 [==============================] - 165s 2ms/step - loss: 1.0596 - acc: 0.7197 - val_loss: 0.9714 - val_acc: 0.7401\n",
      "Epoch 4/50\n",
      "100312/100312 [==============================] - 167s 2ms/step - loss: 1.0150 - acc: 0.7297 - val_loss: 0.9395 - val_acc: 0.7460\n",
      "Epoch 5/50\n",
      "100312/100312 [==============================] - 170s 2ms/step - loss: 0.9916 - acc: 0.7342 - val_loss: 0.9473 - val_acc: 0.7414\n",
      "Epoch 6/50\n",
      "100312/100312 [==============================] - 175s 2ms/step - loss: 0.9673 - acc: 0.7392 - val_loss: 0.9329 - val_acc: 0.7466\n",
      "Epoch 7/50\n",
      "100312/100312 [==============================] - 170s 2ms/step - loss: 0.9523 - acc: 0.7430 - val_loss: 0.9238 - val_acc: 0.7473\n",
      "Epoch 8/50\n",
      "100312/100312 [==============================] - 170s 2ms/step - loss: 0.9374 - acc: 0.7445 - val_loss: 0.9529 - val_acc: 0.7417\n",
      "Epoch 9/50\n",
      "100312/100312 [==============================] - 169s 2ms/step - loss: 0.9271 - acc: 0.7481 - val_loss: 0.9201 - val_acc: 0.7486\n",
      "Epoch 10/50\n",
      "100312/100312 [==============================] - 170s 2ms/step - loss: 0.9201 - acc: 0.7480 - val_loss: 0.9268 - val_acc: 0.7476\n",
      "Epoch 11/50\n",
      "100312/100312 [==============================] - 175s 2ms/step - loss: 0.9112 - acc: 0.7511 - val_loss: 0.9249 - val_acc: 0.7487\n",
      "Epoch 12/50\n",
      "100312/100312 [==============================] - 172s 2ms/step - loss: 0.8910 - acc: 0.7562 - val_loss: 0.9181 - val_acc: 0.7510\n",
      "Epoch 13/50\n",
      "100312/100312 [==============================] - 170s 2ms/step - loss: 0.8886 - acc: 0.7562 - val_loss: 0.9221 - val_acc: 0.7511\n",
      "Epoch 14/50\n",
      "100312/100312 [==============================] - 168s 2ms/step - loss: 0.8873 - acc: 0.7564 - val_loss: 0.9153 - val_acc: 0.7515\n",
      "Epoch 15/50\n",
      "100312/100312 [==============================] - 168s 2ms/step - loss: 0.8836 - acc: 0.7572 - val_loss: 0.9181 - val_acc: 0.7527\n",
      "Epoch 16/50\n",
      "100312/100312 [==============================] - 174s 2ms/step - loss: 0.8722 - acc: 0.7585 - val_loss: 0.9169 - val_acc: 0.7520\n",
      "Epoch 17/50\n",
      "100312/100312 [==============================] - 175s 2ms/step - loss: 0.8674 - acc: 0.7607 - val_loss: 0.9249 - val_acc: 0.7511\n",
      "Epoch 18/50\n",
      "100312/100312 [==============================] - 192s 2ms/step - loss: 0.8656 - acc: 0.7603 - val_loss: 0.9273 - val_acc: 0.7501\n",
      "Epoch 00018: early stopping\n"
     ]
    }
   ],
   "source": [
    "history = model.fit(X_train.toarray(),y_binary, epochs=50, validation_split=0.20, shuffle=True, batch_size=64,callbacks=callback)"
   ]
  },
  {
   "cell_type": "markdown",
   "metadata": {},
   "source": [
    "### visualize model"
   ]
  },
  {
   "cell_type": "code",
   "execution_count": 17,
   "metadata": {},
   "outputs": [],
   "source": [
    "def plot_model_history(model_history):\n",
    "    fig, axs = plt.subplots(1,2,figsize=(15,5))\n",
    "    # summarize history for accuracy\n",
    "    axs[0].plot(range(1,len(model_history.history['acc'])+1),model_history.history['acc'])\n",
    "    axs[0].plot(range(1,len(model_history.history['val_acc'])+1),model_history.history['val_acc'])\n",
    "    axs[0].set_title('Model Accuracy')\n",
    "    axs[0].set_ylabel('Accuracy')\n",
    "    axs[0].set_xlabel('Epoch')\n",
    "    axs[0].set_xticks(np.arange(1,len(model_history.history['acc'])+1),len(model_history.history['acc'])/10)\n",
    "    axs[0].legend(['train', 'val'], loc='best')\n",
    "    # summarize history for loss\n",
    "    axs[1].plot(range(1,len(model_history.history['loss'])+1),model_history.history['loss'])\n",
    "    axs[1].plot(range(1,len(model_history.history['val_loss'])+1),model_history.history['val_loss'])\n",
    "    axs[1].set_title('Model Loss')\n",
    "    axs[1].set_ylabel('Loss')\n",
    "    axs[1].set_xlabel('Epoch')\n",
    "    axs[1].set_xticks(np.arange(1,len(model_history.history['loss'])+1),len(model_history.history['loss'])/10)\n",
    "    axs[1].legend(['train', 'val'], loc='best')\n",
    "    plt.show()"
   ]
  },
  {
   "cell_type": "code",
   "execution_count": 18,
   "metadata": {},
   "outputs": [
    {
     "data": {
      "image/png": "[encoded data removed]",
      "text/plain": [
       "<matplotlib.figure.Figure at 0x28d251cc2b0>"
      ]
     },
     "metadata": {},
     "output_type": "display_data"
    }
   ],
   "source": [
    "plot_model_history(history)"
   ]
  },
  {
   "cell_type": "code",
   "execution_count": 19,
   "metadata": {},
   "outputs": [],
   "source": [
    "model.save('language_identification_model.h5')"
   ]
  }
 ],
 "metadata": {
  "kernelspec": {
   "display_name": "Python 3",
   "language": "python",
   "name": "python3"
  },
  "language_info": {
   "codemirror_mode": {
    "name": "ipython",
    "version": 3
   },
   "file_extension": ".py",
   "mimetype": "text/x-python",
   "name": "python",
   "nbconvert_exporter": "python",
   "pygments_lexer": "ipython3",
   "version": "3.6.3"
  }
 },
 "nbformat": 4,
 "nbformat_minor": 2
}
