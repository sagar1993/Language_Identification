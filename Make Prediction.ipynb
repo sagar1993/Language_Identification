{
 "cells": [
  {
   "cell_type": "code",
   "execution_count": 1,
   "metadata": {},
   "outputs": [
    {
     "name": "stderr",
     "output_type": "stream",
     "text": [
      "Using TensorFlow backend.\n"
     ]
    }
   ],
   "source": [
    "import pandas as pd\n",
    "import pickle\n",
    "import numpy as np\n",
    "from keras.models import load_model\n",
    "from sklearn.externals import joblib"
   ]
  },
  {
   "cell_type": "code",
   "execution_count": 11,
   "metadata": {},
   "outputs": [],
   "source": [
    "class Predict(object):\n",
    "    pipeline = joblib.load('pipeline.pkl')\n",
    "    model = load_model('language_identification.h5')\n",
    "    val_to_cat = {}\n",
    "    with open(\"val_to_cat.pkl\", 'rb') as f:\n",
    "        val_to_cat = pickle.load(f)\n",
    "    \n",
    "    def __init__(self):\n",
    "        pass\n",
    "    \n",
    "    def load_data_from_json(self, dataFile):\n",
    "        self.df = pd.read_json(dataFile, lines=True)\n",
    "        \n",
    "    def transform(self, label):\n",
    "        self.data = self.pipeline.transform(self.df[label])\n",
    "        \n",
    "    def predict_from_json(self, dataFile, label):\n",
    "        self.load_data_from_json(dataFile)\n",
    "        self.transform(label)\n",
    "        predictions = self.model.predict(self.data.toarray())\n",
    "        result = pd.Series(np.argmax(predictions, axis=1))\n",
    "        self.prediction_result = result.map(self.val_to_cat)\n",
    "        return self.prediction_result\n",
    "    \n",
    "    def save_prediction_to_file(self,filename):\n",
    "        self.prediction_result.to_csv(filename, index=False)"
   ]
  },
  {
   "cell_type": "code",
   "execution_count": 12,
   "metadata": {},
   "outputs": [],
   "source": [
    "p = Predict()"
   ]
  },
  {
   "cell_type": "code",
   "execution_count": 13,
   "metadata": {},
   "outputs": [
    {
     "data": {
      "text/plain": [
       "0            hy\n",
       "1            no\n",
       "2            es\n",
       "3            cs\n",
       "4            gl\n",
       "5            no\n",
       "6            en\n",
       "7            vi\n",
       "8            sh\n",
       "9         lorem\n",
       "10           sh\n",
       "11        lorem\n",
       "12           eo\n",
       "13           de\n",
       "14           it\n",
       "15           bg\n",
       "16           he\n",
       "17           ru\n",
       "18           tr\n",
       "19           el\n",
       "20           be\n",
       "21           it\n",
       "22           en\n",
       "23           de\n",
       "24           no\n",
       "25           ro\n",
       "26           ru\n",
       "27           hi\n",
       "28           es\n",
       "29           hu\n",
       "          ...  \n",
       "124579       gl\n",
       "124580       pl\n",
       "124581       vi\n",
       "124582       ms\n",
       "124583       vi\n",
       "124584       sr\n",
       "124585       ka\n",
       "124586       tr\n",
       "124587       it\n",
       "124588       en\n",
       "124589       be\n",
       "124590       sh\n",
       "124591       gl\n",
       "124592       da\n",
       "124593       de\n",
       "124594       pl\n",
       "124595       en\n",
       "124596       ro\n",
       "124597       ca\n",
       "124598       ru\n",
       "124599       sh\n",
       "124600       gl\n",
       "124601       nn\n",
       "124602       da\n",
       "124603       hi\n",
       "124604       ur\n",
       "124605       ko\n",
       "124606       kk\n",
       "124607       sv\n",
       "124608       en\n",
       "Length: 124609, dtype: object"
      ]
     },
     "execution_count": 13,
     "metadata": {},
     "output_type": "execute_result"
    }
   ],
   "source": [
    "p.predict_from_json('test_X_languages_homework.json.txt', 'text')"
   ]
  },
  {
   "cell_type": "code",
   "execution_count": 14,
   "metadata": {},
   "outputs": [],
   "source": [
    "p.save_prediction_to_file('predictions.txt')"
   ]
  }
 ],
 "metadata": {
  "kernelspec": {
   "display_name": "Python 3",
   "language": "python",
   "name": "python3"
  },
  "language_info": {
   "codemirror_mode": {
    "name": "ipython",
    "version": 3
   },
   "file_extension": ".py",
   "mimetype": "text/x-python",
   "name": "python",
   "nbconvert_exporter": "python",
   "pygments_lexer": "ipython3",
   "version": "3.6.3"
  }
 },
 "nbformat": 4,
 "nbformat_minor": 2
}
